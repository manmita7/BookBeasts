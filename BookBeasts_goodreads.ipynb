{
 "cells": [
  {
   "cell_type": "code",
   "execution_count": 3,
   "metadata": {},
   "outputs": [],
   "source": [
    "import warnings\n",
    "warnings.filterwarnings('ignore')"
   ]
  },
  {
   "cell_type": "code",
   "execution_count": 4,
   "metadata": {},
   "outputs": [],
   "source": [
    "import matplotlib.pyplot as plt\n",
    "import pandas as pd\n",
    "import numpy as np"
   ]
  },
  {
   "cell_type": "code",
   "execution_count": 3,
   "metadata": {},
   "outputs": [
    {
     "data": {
      "text/html": [
       "<div>\n",
       "<style scoped>\n",
       "    .dataframe tbody tr th:only-of-type {\n",
       "        vertical-align: middle;\n",
       "    }\n",
       "\n",
       "    .dataframe tbody tr th {\n",
       "        vertical-align: top;\n",
       "    }\n",
       "\n",
       "    .dataframe thead th {\n",
       "        text-align: right;\n",
       "    }\n",
       "</style>\n",
       "<table border=\"1\" class=\"dataframe\">\n",
       "  <thead>\n",
       "    <tr style=\"text-align: right;\">\n",
       "      <th></th>\n",
       "      <th>publisher</th>\n",
       "      <th>author</th>\n",
       "      <th>primary_isbn10</th>\n",
       "      <th>primary_isbn13</th>\n",
       "      <th>date</th>\n",
       "      <th>contributor</th>\n",
       "      <th>title</th>\n",
       "      <th>weeks_on_list</th>\n",
       "      <th>year</th>\n",
       "      <th>month</th>\n",
       "    </tr>\n",
       "  </thead>\n",
       "  <tbody>\n",
       "    <tr>\n",
       "      <th>0</th>\n",
       "      <td>Riverhead</td>\n",
       "      <td>Paula Hawkins</td>\n",
       "      <td>1594634025</td>\n",
       "      <td>9.78E+12</td>\n",
       "      <td>2017-02-19</td>\n",
       "      <td>by Paula Hawkins</td>\n",
       "      <td>THE GIRL ON THE TRAIN</td>\n",
       "      <td>102</td>\n",
       "      <td>2017</td>\n",
       "      <td>2</td>\n",
       "    </tr>\n",
       "    <tr>\n",
       "      <th>1</th>\n",
       "      <td>Scribner</td>\n",
       "      <td>Anthony Doerr</td>\n",
       "      <td>1501173219</td>\n",
       "      <td>9.78E+12</td>\n",
       "      <td>2017-05-07</td>\n",
       "      <td>by Anthony Doerr</td>\n",
       "      <td>ALL THE LIGHT WE CANNOT SEE</td>\n",
       "      <td>81</td>\n",
       "      <td>2017</td>\n",
       "      <td>5</td>\n",
       "    </tr>\n",
       "    <tr>\n",
       "      <th>2</th>\n",
       "      <td>Vintage</td>\n",
       "      <td>E L James</td>\n",
       "      <td>525431888</td>\n",
       "      <td>9.78E+12</td>\n",
       "      <td>2017-03-05</td>\n",
       "      <td>by E. L. James</td>\n",
       "      <td>FIFTY SHADES DARKER</td>\n",
       "      <td>66</td>\n",
       "      <td>2017</td>\n",
       "      <td>3</td>\n",
       "    </tr>\n",
       "    <tr>\n",
       "      <th>3</th>\n",
       "      <td>St. Martin's</td>\n",
       "      <td>Kristin Hannah</td>\n",
       "      <td>1466850604</td>\n",
       "      <td>9.78E+12</td>\n",
       "      <td>2017-10-29</td>\n",
       "      <td>by Kristin Hannah</td>\n",
       "      <td>THE NIGHTINGALE</td>\n",
       "      <td>63</td>\n",
       "      <td>2017</td>\n",
       "      <td>10</td>\n",
       "    </tr>\n",
       "    <tr>\n",
       "      <th>4</th>\n",
       "      <td>Penguin Group</td>\n",
       "      <td>Kathryn Stockett</td>\n",
       "      <td>1440697663</td>\n",
       "      <td>9.78E+12</td>\n",
       "      <td>2012-04-08</td>\n",
       "      <td>by Kathryn Stockett</td>\n",
       "      <td>THE HELP</td>\n",
       "      <td>58</td>\n",
       "      <td>2012</td>\n",
       "      <td>4</td>\n",
       "    </tr>\n",
       "  </tbody>\n",
       "</table>\n",
       "</div>"
      ],
      "text/plain": [
       "       publisher            author primary_isbn10 primary_isbn13       date  \\\n",
       "0      Riverhead     Paula Hawkins     1594634025       9.78E+12 2017-02-19   \n",
       "1       Scribner     Anthony Doerr     1501173219       9.78E+12 2017-05-07   \n",
       "2        Vintage         E L James      525431888       9.78E+12 2017-03-05   \n",
       "3   St. Martin's    Kristin Hannah     1466850604       9.78E+12 2017-10-29   \n",
       "4  Penguin Group  Kathryn Stockett     1440697663       9.78E+12 2012-04-08   \n",
       "\n",
       "           contributor                        title  weeks_on_list  year  \\\n",
       "0     by Paula Hawkins        THE GIRL ON THE TRAIN            102  2017   \n",
       "1     by Anthony Doerr  ALL THE LIGHT WE CANNOT SEE             81  2017   \n",
       "2       by E. L. James          FIFTY SHADES DARKER             66  2017   \n",
       "3    by Kristin Hannah              THE NIGHTINGALE             63  2017   \n",
       "4  by Kathryn Stockett                     THE HELP             58  2012   \n",
       "\n",
       "   month  \n",
       "0      2  \n",
       "1      5  \n",
       "2      3  \n",
       "3     10  \n",
       "4      4  "
      ]
     },
     "execution_count": 3,
     "metadata": {},
     "output_type": "execute_result"
    }
   ],
   "source": [
    "#read in the three datasets\n",
    "#NYbestlist is the NY times best seller list\n",
    "#weeks_on_list is the number of weeks a book was on the best seller list\n",
    "NYbestlist_df = pd.read_csv(\"Resources/books_uniq_weeks.csv\",encoding = 'unicode_escape')\n",
    "NYbestlist_df['date'] = pd.to_datetime(NYbestlist_df['date'])\n",
    "NYbestlist_df['year'] = NYbestlist_df['date'].dt.year\n",
    "NYbestlist_df['month'] = NYbestlist_df['date'].dt.month\n",
    "NYbestlist_df.head()\n"
   ]
  },
  {
   "cell_type": "code",
   "execution_count": 6,
   "metadata": {},
   "outputs": [
    {
     "name": "stderr",
     "output_type": "stream",
     "text": [
      "b'Skipping line 4012: expected 10 fields, saw 11\\nSkipping line 5688: expected 10 fields, saw 11\\nSkipping line 7056: expected 10 fields, saw 11\\nSkipping line 10601: expected 10 fields, saw 11\\nSkipping line 10668: expected 10 fields, saw 11\\n'\n"
     ]
    },
    {
     "data": {
      "text/html": [
       "<div>\n",
       "<style scoped>\n",
       "    .dataframe tbody tr th:only-of-type {\n",
       "        vertical-align: middle;\n",
       "    }\n",
       "\n",
       "    .dataframe tbody tr th {\n",
       "        vertical-align: top;\n",
       "    }\n",
       "\n",
       "    .dataframe thead th {\n",
       "        text-align: right;\n",
       "    }\n",
       "</style>\n",
       "<table border=\"1\" class=\"dataframe\">\n",
       "  <thead>\n",
       "    <tr style=\"text-align: right;\">\n",
       "      <th></th>\n",
       "      <th>bookID</th>\n",
       "      <th>title</th>\n",
       "      <th>authors</th>\n",
       "      <th>average_rating</th>\n",
       "      <th>isbn</th>\n",
       "      <th>isbn13</th>\n",
       "      <th>language_code</th>\n",
       "      <th># num_pages</th>\n",
       "      <th>ratings_count</th>\n",
       "      <th>text_reviews_count</th>\n",
       "    </tr>\n",
       "  </thead>\n",
       "  <tbody>\n",
       "    <tr>\n",
       "      <th>0</th>\n",
       "      <td>1</td>\n",
       "      <td>Harry Potter and the Half-Blood Prince (Harry ...</td>\n",
       "      <td>J.K. Rowling-Mary GrandPré</td>\n",
       "      <td>4.56</td>\n",
       "      <td>0439785960</td>\n",
       "      <td>9780439785969</td>\n",
       "      <td>eng</td>\n",
       "      <td>652</td>\n",
       "      <td>1944099</td>\n",
       "      <td>26249</td>\n",
       "    </tr>\n",
       "    <tr>\n",
       "      <th>1</th>\n",
       "      <td>2</td>\n",
       "      <td>Harry Potter and the Order of the Phoenix (Har...</td>\n",
       "      <td>J.K. Rowling-Mary GrandPré</td>\n",
       "      <td>4.49</td>\n",
       "      <td>0439358078</td>\n",
       "      <td>9780439358071</td>\n",
       "      <td>eng</td>\n",
       "      <td>870</td>\n",
       "      <td>1996446</td>\n",
       "      <td>27613</td>\n",
       "    </tr>\n",
       "    <tr>\n",
       "      <th>2</th>\n",
       "      <td>3</td>\n",
       "      <td>Harry Potter and the Sorcerer's Stone (Harry P...</td>\n",
       "      <td>J.K. Rowling-Mary GrandPré</td>\n",
       "      <td>4.47</td>\n",
       "      <td>0439554934</td>\n",
       "      <td>9780439554930</td>\n",
       "      <td>eng</td>\n",
       "      <td>320</td>\n",
       "      <td>5629932</td>\n",
       "      <td>70390</td>\n",
       "    </tr>\n",
       "    <tr>\n",
       "      <th>3</th>\n",
       "      <td>4</td>\n",
       "      <td>Harry Potter and the Chamber of Secrets (Harry...</td>\n",
       "      <td>J.K. Rowling</td>\n",
       "      <td>4.41</td>\n",
       "      <td>0439554896</td>\n",
       "      <td>9780439554893</td>\n",
       "      <td>eng</td>\n",
       "      <td>352</td>\n",
       "      <td>6267</td>\n",
       "      <td>272</td>\n",
       "    </tr>\n",
       "    <tr>\n",
       "      <th>4</th>\n",
       "      <td>5</td>\n",
       "      <td>Harry Potter and the Prisoner of Azkaban (Harr...</td>\n",
       "      <td>J.K. Rowling-Mary GrandPré</td>\n",
       "      <td>4.55</td>\n",
       "      <td>043965548X</td>\n",
       "      <td>9780439655484</td>\n",
       "      <td>eng</td>\n",
       "      <td>435</td>\n",
       "      <td>2149872</td>\n",
       "      <td>33964</td>\n",
       "    </tr>\n",
       "  </tbody>\n",
       "</table>\n",
       "</div>"
      ],
      "text/plain": [
       "   bookID                                              title  \\\n",
       "0       1  Harry Potter and the Half-Blood Prince (Harry ...   \n",
       "1       2  Harry Potter and the Order of the Phoenix (Har...   \n",
       "2       3  Harry Potter and the Sorcerer's Stone (Harry P...   \n",
       "3       4  Harry Potter and the Chamber of Secrets (Harry...   \n",
       "4       5  Harry Potter and the Prisoner of Azkaban (Harr...   \n",
       "\n",
       "                      authors  average_rating        isbn         isbn13  \\\n",
       "0  J.K. Rowling-Mary GrandPré            4.56  0439785960  9780439785969   \n",
       "1  J.K. Rowling-Mary GrandPré            4.49  0439358078  9780439358071   \n",
       "2  J.K. Rowling-Mary GrandPré            4.47  0439554934  9780439554930   \n",
       "3                J.K. Rowling            4.41  0439554896  9780439554893   \n",
       "4  J.K. Rowling-Mary GrandPré            4.55  043965548X  9780439655484   \n",
       "\n",
       "  language_code  # num_pages  ratings_count  text_reviews_count  \n",
       "0           eng          652        1944099               26249  \n",
       "1           eng          870        1996446               27613  \n",
       "2           eng          320        5629932               70390  \n",
       "3           eng          352           6267                 272  \n",
       "4           eng          435        2149872               33964  "
      ]
     },
     "execution_count": 6,
     "metadata": {},
     "output_type": "execute_result"
    }
   ],
   "source": [
    "#goodreads is the Goodreads dataset\n",
    "#rating of 5 \n",
    "goodreads_df = pd.read_csv('Resources/books.csv',error_bad_lines=False)\n",
    "goodreads_df.head()"
   ]
  },
  {
   "cell_type": "code",
   "execution_count": 5,
   "metadata": {},
   "outputs": [
    {
     "data": {
      "text/html": [
       "<div>\n",
       "<style scoped>\n",
       "    .dataframe tbody tr th:only-of-type {\n",
       "        vertical-align: middle;\n",
       "    }\n",
       "\n",
       "    .dataframe tbody tr th {\n",
       "        vertical-align: top;\n",
       "    }\n",
       "\n",
       "    .dataframe thead th {\n",
       "        text-align: right;\n",
       "    }\n",
       "</style>\n",
       "<table border=\"1\" class=\"dataframe\">\n",
       "  <thead>\n",
       "    <tr style=\"text-align: right;\">\n",
       "      <th></th>\n",
       "      <th>Index</th>\n",
       "      <th>Position</th>\n",
       "      <th>ISBN</th>\n",
       "      <th>Title</th>\n",
       "      <th>Author</th>\n",
       "      <th>Imprint</th>\n",
       "      <th>Publisher Group</th>\n",
       "      <th>Volume</th>\n",
       "      <th>Value</th>\n",
       "      <th>RRP</th>\n",
       "      <th>ASP</th>\n",
       "      <th>Binding</th>\n",
       "      <th>Publ Date</th>\n",
       "      <th>Product Class</th>\n",
       "      <th>year</th>\n",
       "      <th>month</th>\n",
       "    </tr>\n",
       "  </thead>\n",
       "  <tbody>\n",
       "    <tr>\n",
       "      <th>0</th>\n",
       "      <td>1</td>\n",
       "      <td>1</td>\n",
       "      <td>9.780550e+12</td>\n",
       "      <td>Da Vinci Code,The</td>\n",
       "      <td>Brown, Dan</td>\n",
       "      <td>Corgi Books</td>\n",
       "      <td>Transworld Grp</td>\n",
       "      <td>4,522,025</td>\n",
       "      <td>2.788656e+07</td>\n",
       "      <td>9.7478</td>\n",
       "      <td>6.1610</td>\n",
       "      <td>Paperback</td>\n",
       "      <td>2004-03-01</td>\n",
       "      <td>F2.1  Crime, Thriller &amp; Adventure</td>\n",
       "      <td>2004</td>\n",
       "      <td>3</td>\n",
       "    </tr>\n",
       "    <tr>\n",
       "      <th>1</th>\n",
       "      <td>3</td>\n",
       "      <td>2</td>\n",
       "      <td>9.780750e+12</td>\n",
       "      <td>Harry Potter and the Philosopher's Stone#</td>\n",
       "      <td>Rowling, J. K.</td>\n",
       "      <td>Bloomsbury Publishing PLC</td>\n",
       "      <td>Bloomsbury Grp</td>\n",
       "      <td>3,844,316</td>\n",
       "      <td>2.422089e+07</td>\n",
       "      <td>8.5278</td>\n",
       "      <td>6.3684</td>\n",
       "      <td>Paperback</td>\n",
       "      <td>1997-06-26</td>\n",
       "      <td>Y2.1  Children's Fiction</td>\n",
       "      <td>1997</td>\n",
       "      <td>6</td>\n",
       "    </tr>\n",
       "    <tr>\n",
       "      <th>2</th>\n",
       "      <td>7</td>\n",
       "      <td>3</td>\n",
       "      <td>9.780750e+12</td>\n",
       "      <td>Harry Potter and the Chamber of Secrets#</td>\n",
       "      <td>Rowling, J. K.</td>\n",
       "      <td>Bloomsbury Publishing PLC</td>\n",
       "      <td>Bloomsbury Grp</td>\n",
       "      <td>3,184,492</td>\n",
       "      <td>1.979331e+07</td>\n",
       "      <td>8.5278</td>\n",
       "      <td>6.1854</td>\n",
       "      <td>Paperback</td>\n",
       "      <td>1999-04-01</td>\n",
       "      <td>Y2.1  Children's Fiction</td>\n",
       "      <td>1999</td>\n",
       "      <td>4</td>\n",
       "    </tr>\n",
       "    <tr>\n",
       "      <th>3</th>\n",
       "      <td>6</td>\n",
       "      <td>4</td>\n",
       "      <td>9.780550e+12</td>\n",
       "      <td>Angels and Demons#</td>\n",
       "      <td>Brown, Dan</td>\n",
       "      <td>Corgi Books</td>\n",
       "      <td>Transworld Grp</td>\n",
       "      <td>3,096,850</td>\n",
       "      <td>1.895554e+07</td>\n",
       "      <td>9.7478</td>\n",
       "      <td>6.1610</td>\n",
       "      <td>Paperback</td>\n",
       "      <td>2003-07-01</td>\n",
       "      <td>F2.1  Crime, Thriller &amp; Adventure</td>\n",
       "      <td>2003</td>\n",
       "      <td>7</td>\n",
       "    </tr>\n",
       "    <tr>\n",
       "      <th>4</th>\n",
       "      <td>2</td>\n",
       "      <td>5</td>\n",
       "      <td>9.780750e+12</td>\n",
       "      <td>Harry Potter and the Order of the Phoenix</td>\n",
       "      <td>Rowling, J. K.</td>\n",
       "      <td>Bloomsbury Publishing PLC</td>\n",
       "      <td>Bloomsbury Grp</td>\n",
       "      <td>3,043,226</td>\n",
       "      <td>4.138903e+07</td>\n",
       "      <td>20.7278</td>\n",
       "      <td>13.6030</td>\n",
       "      <td>Hardback</td>\n",
       "      <td>2003-06-21</td>\n",
       "      <td>Y2.1  Children's Fiction</td>\n",
       "      <td>2003</td>\n",
       "      <td>6</td>\n",
       "    </tr>\n",
       "  </tbody>\n",
       "</table>\n",
       "</div>"
      ],
      "text/plain": [
       "  Index  Position          ISBN                                      Title  \\\n",
       "0     1         1  9.780550e+12                          Da Vinci Code,The   \n",
       "1     3         2  9.780750e+12  Harry Potter and the Philosopher's Stone#   \n",
       "2     7         3  9.780750e+12   Harry Potter and the Chamber of Secrets#   \n",
       "3     6         4  9.780550e+12                         Angels and Demons#   \n",
       "4     2         5  9.780750e+12  Harry Potter and the Order of the Phoenix   \n",
       "\n",
       "           Author                    Imprint Publisher Group     Volume  \\\n",
       "0      Brown, Dan                Corgi Books  Transworld Grp  4,522,025   \n",
       "1  Rowling, J. K.  Bloomsbury Publishing PLC  Bloomsbury Grp  3,844,316   \n",
       "2  Rowling, J. K.  Bloomsbury Publishing PLC  Bloomsbury Grp  3,184,492   \n",
       "3      Brown, Dan                Corgi Books  Transworld Grp  3,096,850   \n",
       "4  Rowling, J. K.  Bloomsbury Publishing PLC  Bloomsbury Grp  3,043,226   \n",
       "\n",
       "          Value      RRP      ASP    Binding  Publ Date  \\\n",
       "0  2.788656e+07   9.7478   6.1610  Paperback 2004-03-01   \n",
       "1  2.422089e+07   8.5278   6.3684  Paperback 1997-06-26   \n",
       "2  1.979331e+07   8.5278   6.1854  Paperback 1999-04-01   \n",
       "3  1.895554e+07   9.7478   6.1610  Paperback 2003-07-01   \n",
       "4  4.138903e+07  20.7278  13.6030   Hardback 2003-06-21   \n",
       "\n",
       "                       Product Class  year  month  \n",
       "0  F2.1  Crime, Thriller & Adventure  2004      3  \n",
       "1           Y2.1  Children's Fiction  1997      6  \n",
       "2           Y2.1  Children's Fiction  1999      4  \n",
       "3  F2.1  Crime, Thriller & Adventure  2003      7  \n",
       "4           Y2.1  Children's Fiction  2003      6  "
      ]
     },
     "execution_count": 5,
     "metadata": {},
     "output_type": "execute_result"
    }
   ],
   "source": [
    "#top100 is the top 100 books from 1998-2010\n",
    "#Volume is how many books were sold which is a great thing to potentially track\n",
    "#Nielsen records 1998-2010\n",
    "top100_df = pd.read_csv('Resources/Top 100 books - TOP 100 - ALL TIME.csv')\n",
    "\n",
    "#convert values from pounds to dollars\n",
    "#remove pound sign\n",
    "top100_df[\"Value\"] = [x.strip('£') for x in top100_df[\"Value\"]]\n",
    "top100_df[\"RRP\"] = [x.strip('£') for x in top100_df[\"RRP\"]]\n",
    "top100_df[\"ASP\"] = [x.strip('£') for x in top100_df[\"ASP\"]]\n",
    "#convert str to float\n",
    "top100_df[\"Value\"] = [float(x.replace(',','')) for x in top100_df[\"Value\"]]\n",
    "top100_df[\"Value\"] = pd.to_numeric(top100_df[\"Value\"])\n",
    "top100_df[\"RRP\"] = pd.to_numeric(top100_df[\"RRP\"])\n",
    "top100_df[\"ASP\"] = pd.to_numeric(top100_df[\"ASP\"])\n",
    "#convert to dollars\n",
    "top100_df[\"Value\"] = [x*1.22 for x in top100_df[\"Value\"]]\n",
    "top100_df[\"RRP\"] = [x*1.22 for x in top100_df[\"RRP\"]]\n",
    "top100_df[\"ASP\"] = [x*1.22 for x in top100_df[\"ASP\"]]\n",
    "\n",
    "#extract months and year\n",
    "top100_df[\"Publ Date\"] = pd.to_datetime(top100_df['Publ Date'])\n",
    "top100_df['year'] = top100_df['Publ Date'].dt.year\n",
    "top100_df['month'] = top100_df['Publ Date'].dt.month\n",
    "top100_df.head()"
   ]
  },
  {
   "cell_type": "code",
   "execution_count": 7,
   "metadata": {},
   "outputs": [
    {
     "data": {
      "text/html": [
       "<div>\n",
       "<style scoped>\n",
       "    .dataframe tbody tr th:only-of-type {\n",
       "        vertical-align: middle;\n",
       "    }\n",
       "\n",
       "    .dataframe tbody tr th {\n",
       "        vertical-align: top;\n",
       "    }\n",
       "\n",
       "    .dataframe thead th {\n",
       "        text-align: right;\n",
       "    }\n",
       "</style>\n",
       "<table border=\"1\" class=\"dataframe\">\n",
       "  <thead>\n",
       "    <tr style=\"text-align: right;\">\n",
       "      <th></th>\n",
       "      <th>Author</th>\n",
       "      <th>Book Title</th>\n",
       "      <th>Average Rating</th>\n",
       "      <th>Ratings Count</th>\n",
       "      <th>Book Pages</th>\n",
       "    </tr>\n",
       "  </thead>\n",
       "  <tbody>\n",
       "    <tr>\n",
       "      <th>4939</th>\n",
       "      <td>Tim Bogenn</td>\n",
       "      <td>Zone of the Enders: The 2nd Runner Official St...</td>\n",
       "      <td>5.0</td>\n",
       "      <td>2</td>\n",
       "      <td>128</td>\n",
       "    </tr>\n",
       "    <tr>\n",
       "      <th>6788</th>\n",
       "      <td>Dennis Adler-R.L. Wilson</td>\n",
       "      <td>Winchester Shotguns</td>\n",
       "      <td>5.0</td>\n",
       "      <td>2</td>\n",
       "      <td>372</td>\n",
       "    </tr>\n",
       "    <tr>\n",
       "      <th>879</th>\n",
       "      <td>Julie Sylvester-David Sylvester</td>\n",
       "      <td>Willem de Kooning: Late Paintings</td>\n",
       "      <td>5.0</td>\n",
       "      <td>1</td>\n",
       "      <td>83</td>\n",
       "    </tr>\n",
       "    <tr>\n",
       "      <th>11069</th>\n",
       "      <td>Laura Driscoll-Alisa Klayman-Grodsky-Eric     ...</td>\n",
       "      <td>Tyrannosaurus Wrecks (Stanley  #1)</td>\n",
       "      <td>5.0</td>\n",
       "      <td>2</td>\n",
       "      <td>24</td>\n",
       "    </tr>\n",
       "    <tr>\n",
       "      <th>7506</th>\n",
       "      <td>Todd Davis-Marc Frey</td>\n",
       "      <td>The New Big Book of America</td>\n",
       "      <td>5.0</td>\n",
       "      <td>2</td>\n",
       "      <td>56</td>\n",
       "    </tr>\n",
       "    <tr>\n",
       "      <th>11542</th>\n",
       "      <td>Keith Donohue</td>\n",
       "      <td>The Irish Anatomist: A Study of Flann O'Brien</td>\n",
       "      <td>5.0</td>\n",
       "      <td>1</td>\n",
       "      <td>222</td>\n",
       "    </tr>\n",
       "    <tr>\n",
       "      <th>6745</th>\n",
       "      <td>NOT A BOOK</td>\n",
       "      <td>The Goon Show  Volume 5: And There's More Wher...</td>\n",
       "      <td>5.0</td>\n",
       "      <td>0</td>\n",
       "      <td>2</td>\n",
       "    </tr>\n",
       "    <tr>\n",
       "      <th>6596</th>\n",
       "      <td>NOT A BOOK</td>\n",
       "      <td>The Goon Show  Volume 4: My Knees Have Fallen ...</td>\n",
       "      <td>5.0</td>\n",
       "      <td>3</td>\n",
       "      <td>2</td>\n",
       "    </tr>\n",
       "    <tr>\n",
       "      <th>6598</th>\n",
       "      <td>NOT A BOOK</td>\n",
       "      <td>The Goon Show  Volume 11: He's Fallen in the W...</td>\n",
       "      <td>5.0</td>\n",
       "      <td>2</td>\n",
       "      <td>2</td>\n",
       "    </tr>\n",
       "    <tr>\n",
       "      <th>5786</th>\n",
       "      <td>John  Diamond</td>\n",
       "      <td>The Diamond Color Meditation: Color Path to th...</td>\n",
       "      <td>5.0</td>\n",
       "      <td>5</td>\n",
       "      <td>74</td>\n",
       "    </tr>\n",
       "  </tbody>\n",
       "</table>\n",
       "</div>"
      ],
      "text/plain": [
       "                                                  Author  \\\n",
       "4939                                          Tim Bogenn   \n",
       "6788                            Dennis Adler-R.L. Wilson   \n",
       "879                      Julie Sylvester-David Sylvester   \n",
       "11069  Laura Driscoll-Alisa Klayman-Grodsky-Eric     ...   \n",
       "7506                                Todd Davis-Marc Frey   \n",
       "11542                                      Keith Donohue   \n",
       "6745                                          NOT A BOOK   \n",
       "6596                                          NOT A BOOK   \n",
       "6598                                          NOT A BOOK   \n",
       "5786                                       John  Diamond   \n",
       "\n",
       "                                              Book Title  Average Rating  \\\n",
       "4939   Zone of the Enders: The 2nd Runner Official St...             5.0   \n",
       "6788                                 Winchester Shotguns             5.0   \n",
       "879                    Willem de Kooning: Late Paintings             5.0   \n",
       "11069                 Tyrannosaurus Wrecks (Stanley  #1)             5.0   \n",
       "7506                         The New Big Book of America             5.0   \n",
       "11542      The Irish Anatomist: A Study of Flann O'Brien             5.0   \n",
       "6745   The Goon Show  Volume 5: And There's More Wher...             5.0   \n",
       "6596   The Goon Show  Volume 4: My Knees Have Fallen ...             5.0   \n",
       "6598   The Goon Show  Volume 11: He's Fallen in the W...             5.0   \n",
       "5786   The Diamond Color Meditation: Color Path to th...             5.0   \n",
       "\n",
       "       Ratings Count  Book Pages  \n",
       "4939               2         128  \n",
       "6788               2         372  \n",
       "879                1          83  \n",
       "11069              2          24  \n",
       "7506               2          56  \n",
       "11542              1         222  \n",
       "6745               0           2  \n",
       "6596               3           2  \n",
       "6598               2           2  \n",
       "5786               5          74  "
      ]
     },
     "execution_count": 7,
     "metadata": {},
     "output_type": "execute_result"
    }
   ],
   "source": [
    "# authors with best ratings\n",
    "# books with best ratings\n",
    "# ratings/ review count\n",
    "# average rating\n",
    "# number of pages\n",
    "\n",
    "goodreads_data = goodreads_df.rename(columns={\"authors\":\"Author\", \"title\":\"Book Title\", \"average_rating\": \"Average Rating\", \"# num_pages\": \"Book Pages\", \"ratings_count\": \"Ratings Count\"})\n",
    "\n",
    "\n",
    "# authors with best ratings\n",
    "good_reads_data = goodreads_data[[\"Author\", \"Book Title\", \"Average Rating\", \"Ratings Count\", \"Book Pages\"]]\n",
    "   \n",
    "good_reads_data.sort_values([\"Average Rating\", \"Book Title\"], axis=0, \n",
    "                 ascending=False, inplace=True)\n",
    "good_reads_data.head(10)"
   ]
  },
  {
   "cell_type": "code",
   "execution_count": 7,
   "metadata": {},
   "outputs": [
    {
     "data": {
      "text/plain": [
       "7600"
      ]
     },
     "execution_count": 7,
     "metadata": {},
     "output_type": "execute_result"
    }
   ],
   "source": [
    "# count total number of authors \n",
    "author_count = goodreads_df[\"authors\"].value_counts()\n",
    "author_count.count()\n"
   ]
  },
  {
   "cell_type": "code",
   "execution_count": 8,
   "metadata": {},
   "outputs": [
    {
     "data": {
      "text/plain": [
       "3.9306198045792136"
      ]
     },
     "execution_count": 8,
     "metadata": {},
     "output_type": "execute_result"
    }
   ],
   "source": [
    "# Average rating\n",
    "avg_rating = good_reads_data[\"Average Rating\"].mean()\n",
    "avg_rating"
   ]
  },
  {
   "cell_type": "code",
   "execution_count": 9,
   "metadata": {},
   "outputs": [
    {
     "data": {
      "text/plain": [
       "342.4027271401487"
      ]
     },
     "execution_count": 9,
     "metadata": {},
     "output_type": "execute_result"
    }
   ],
   "source": [
    "# Average number of pages\n",
    "pages_data = good_reads_data[\"Book Pages\"].mean()\n",
    "pages_data"
   ]
  },
  {
   "cell_type": "code",
   "execution_count": 10,
   "metadata": {},
   "outputs": [
    {
     "data": {
      "text/plain": [
       "3    116\n",
       "2    115\n",
       "0    114\n",
       "1    114\n",
       "4    113\n",
       "5     91\n",
       "9     85\n",
       "6     80\n",
       "7     78\n",
       "8     77\n",
       "Name: Ratings Count, dtype: int64"
      ]
     },
     "execution_count": 10,
     "metadata": {},
     "output_type": "execute_result"
    }
   ],
   "source": [
    "# ratings count\n",
    "ratings = good_reads_data[\"Ratings Count\"].value_counts()\n",
    "ratings.head(10)"
   ]
  },
  {
   "cell_type": "code",
   "execution_count": 32,
   "metadata": {},
   "outputs": [
    {
     "data": {
      "text/plain": [
       "17765.397258276214"
      ]
     },
     "execution_count": 32,
     "metadata": {},
     "output_type": "execute_result"
    }
   ],
   "source": [
    "avgreviews = good_reads_data[\"Ratings Count\"].mean()\n",
    "avgreviews"
   ]
  },
  {
   "cell_type": "code",
   "execution_count": 11,
   "metadata": {
    "scrolled": true
   },
   "outputs": [
    {
     "data": {
      "text/plain": [
       "<matplotlib.collections.PathCollection at 0x115615dd8>"
      ]
     },
     "execution_count": 11,
     "metadata": {},
     "output_type": "execute_result"
    },
    {
     "data": {
      "image/png": "[encoded data removed]",
      "text/plain": [
       "<Figure size 432x288 with 1 Axes>"
      ]
     },
     "metadata": {
      "needs_background": "light"
     },
     "output_type": "display_data"
    }
   ],
   "source": [
    "y = good_reads_data['Average Rating']; \n",
    "x = good_reads_data['Ratings Count']\n",
    "\n",
    "plt.xlabel('Ratings Count', fontsize=15); plt.ylabel('Average Rating', fontsize=15)\n",
    "plt.xticks(size = 12); plt.yticks(size = 12)\n",
    "plt.title(\"Average Ratings by \\n Rating Count\")                                \n",
    "plt.scatter(x,y)\n"
   ]
  },
  {
   "cell_type": "code",
   "execution_count": 42,
   "metadata": {},
   "outputs": [
    {
     "data": {
      "text/plain": [
       "(array([10373.,   986.,   509.,   284.,   222.,   164.,   110.,   102.,\n",
       "           70.,    71.]),\n",
       " array([    0. ,  4994.6,  9989.2, 14983.8, 19978.4, 24973. , 29967.6,\n",
       "        34962.2, 39956.8, 44951.4, 49946. ]),\n",
       " <a list of 10 Patch objects>)"
      ]
     },
     "execution_count": 42,
     "metadata": {},
     "output_type": "execute_result"
    },
    {
     "data": {
      "image/png": "[encoded data removed]",
      "text/plain": [
       "<Figure size 432x288 with 1 Axes>"
      ]
     },
     "metadata": {},
     "output_type": "display_data"
    }
   ],
   "source": [
    "cond = good_reads_data[\"Ratings Count\"] < 50000\n",
    "lessthan1000 = good_reads_data[cond]\n",
    "rating1000 = lessthan1000[\"Ratings Count\"]\n",
    "plt.hist(rating1000)"
   ]
  },
  {
   "cell_type": "code",
   "execution_count": 44,
   "metadata": {},
   "outputs": [
    {
     "data": {
      "text/plain": [
       "(array([7655., 1203.,  709.,  459.,  349.,  277.,  211.,  172.,  173.,\n",
       "         152.]),\n",
       " array([   0. ,  999.6, 1999.2, 2998.8, 3998.4, 4998. , 5997.6, 6997.2,\n",
       "        7996.8, 8996.4, 9996. ]),\n",
       " <a list of 10 Patch objects>)"
      ]
     },
     "execution_count": 44,
     "metadata": {},
     "output_type": "execute_result"
    },
    {
     "data": {
      "image/png": "[encoded data removed]",
      "text/plain": [
       "<Figure size 432x288 with 1 Axes>"
      ]
     },
     "metadata": {},
     "output_type": "display_data"
    }
   ],
   "source": [
    "cond = good_reads_data[\"Ratings Count\"] < 10000\n",
    "lessthan10000 = good_reads_data[cond]\n",
    "rating10000 = lessthan10000[\"Ratings Count\"]\n",
    "plt.hist(rating10000)"
   ]
  },
  {
   "cell_type": "code",
   "execution_count": 11,
   "metadata": {},
   "outputs": [
    {
     "data": {
      "text/plain": [
       "13714"
      ]
     },
     "execution_count": 11,
     "metadata": {},
     "output_type": "execute_result"
    },
    {
     "data": {
      "image/png": "[encoded data removed]",
      "text/plain": [
       "<Figure size 432x288 with 1 Axes>"
      ]
     },
     "metadata": {},
     "output_type": "display_data"
    }
   ],
   "source": [
    "y = good_reads_data['Average Rating']; \n",
    "x = good_reads_data['Book Pages']\n",
    "\n",
    "plt.xlabel('Book Pages', fontsize = 15); plt.ylabel('Average Rating', fontsize = 15)\n",
    "plt.xticks(size = 12); plt.yticks(size = 12)\n",
    "plt.title(\"Average Ratings by \\n Book Size\")  \n",
    "plt.scatter(x,y)\n",
    "len(x)"
   ]
  },
  {
   "cell_type": "code",
   "execution_count": 30,
   "metadata": {},
   "outputs": [
    {
     "data": {
      "text/plain": [
       "Text(0.5,1,'Percentage of Book Pages Greater or Less Than 1000')"
      ]
     },
     "execution_count": 30,
     "metadata": {},
     "output_type": "execute_result"
    },
    {
     "data": {
      "image/png": "[encoded data removed]",
      "text/plain": [
       "<Figure size 432x288 with 1 Axes>"
      ]
     },
     "metadata": {},
     "output_type": "display_data"
    }
   ],
   "source": [
    "bins = [0, 999,9999]\n",
    "labels = [\"Less than 1000\", \"More than 4000\"]\n",
    "bookpages = pd.cut(good_reads_data[\"Book Pages\"],bins,labels=labels).value_counts().to_dict()\n",
    "bookpages_label = bookpages.keys()\n",
    "bookpages_num = bookpages.values()\n",
    "plt.pie(bookpages_num,labels=bookpages_label,autopct=\"%1.1f%%\")\n",
    "plt.axis('equal')\n",
    "plt.title(\"Percentage of Book Pages Greater or Less Than 1000\")"
   ]
  },
  {
   "cell_type": "code",
   "execution_count": 28,
   "metadata": {},
   "outputs": [
    {
     "data": {
      "text/plain": [
       "Text(0.5,1,'Percentage of Book Pages from 0-1000')"
      ]
     },
     "execution_count": 28,
     "metadata": {},
     "output_type": "execute_result"
    },
    {
     "data": {
      "image/png": "[encoded data removed]",
      "text/plain": [
       "<Figure size 432x288 with 1 Axes>"
      ]
     },
     "metadata": {},
     "output_type": "display_data"
    }
   ],
   "source": [
    "bins = [0, 99,199,299,399,499,599,699,799,899,999]\n",
    "labels = [\"0-100\", \"100-200\",\"200-300\",\"300-400\",\"400-500\",\"500-600\",\"600-700\",\"700-800\",\"800-900\",\"900-1000\",]\n",
    "bookpages = pd.cut(good_reads_data[\"Book Pages\"],bins,labels=labels).value_counts().to_dict()\n",
    "bookpages_label = bookpages.keys()\n",
    "bookpages_num = bookpages.values()\n",
    "plt.pie(bookpages_num,labels=bookpages_label,autopct=\"%1.1f%%\")\n",
    "plt.axis('equal')\n",
    "plt.title(\"Percentage of Book Pages from 0-1000\")"
   ]
  },
  {
   "cell_type": "code",
   "execution_count": null,
   "metadata": {},
   "outputs": [],
   "source": []
  }
 ],
 "metadata": {
  "kernelspec": {
   "display_name": "Conda [PythonData]",
   "language": "python",
   "name": "pythondata"
  },
  "language_info": {
   "codemirror_mode": {
    "name": "ipython",
    "version": 3
   },
   "file_extension": ".py",
   "mimetype": "text/x-python",
   "name": "python",
   "nbconvert_exporter": "python",
   "pygments_lexer": "ipython3",
   "version": "3.6.5"
  }
 },
 "nbformat": 4,
 "nbformat_minor": 2
}
