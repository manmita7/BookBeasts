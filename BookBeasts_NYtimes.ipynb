{
 "cells": [
  {
   "cell_type": "code",
   "execution_count": 2,
   "metadata": {},
   "outputs": [],
   "source": [
    "import warnings\n",
    "warnings.filterwarnings('ignore')"
   ]
  },
  {
   "cell_type": "code",
   "execution_count": 3,
   "metadata": {},
   "outputs": [],
   "source": [
    "import matplotlib.pyplot as plt\n",
    "import pandas as pd\n",
    "import numpy as np"
   ]
  },
  {
   "cell_type": "code",
   "execution_count": 4,
   "metadata": {},
   "outputs": [
    {
     "data": {
      "text/html": [
       "<div>\n",
       "<style scoped>\n",
       "    .dataframe tbody tr th:only-of-type {\n",
       "        vertical-align: middle;\n",
       "    }\n",
       "\n",
       "    .dataframe tbody tr th {\n",
       "        vertical-align: top;\n",
       "    }\n",
       "\n",
       "    .dataframe thead th {\n",
       "        text-align: right;\n",
       "    }\n",
       "</style>\n",
       "<table border=\"1\" class=\"dataframe\">\n",
       "  <thead>\n",
       "    <tr style=\"text-align: right;\">\n",
       "      <th></th>\n",
       "      <th>publisher</th>\n",
       "      <th>author</th>\n",
       "      <th>primary_isbn10</th>\n",
       "      <th>primary_isbn13</th>\n",
       "      <th>date</th>\n",
       "      <th>contributor</th>\n",
       "      <th>title</th>\n",
       "      <th>weeks_on_list</th>\n",
       "      <th>year</th>\n",
       "      <th>month</th>\n",
       "    </tr>\n",
       "  </thead>\n",
       "  <tbody>\n",
       "    <tr>\n",
       "      <th>0</th>\n",
       "      <td>Riverhead</td>\n",
       "      <td>Paula Hawkins</td>\n",
       "      <td>1594634025</td>\n",
       "      <td>9.78E+12</td>\n",
       "      <td>2017-02-19</td>\n",
       "      <td>by Paula Hawkins</td>\n",
       "      <td>THE GIRL ON THE TRAIN</td>\n",
       "      <td>102</td>\n",
       "      <td>2017</td>\n",
       "      <td>2</td>\n",
       "    </tr>\n",
       "    <tr>\n",
       "      <th>1</th>\n",
       "      <td>Scribner</td>\n",
       "      <td>Anthony Doerr</td>\n",
       "      <td>1501173219</td>\n",
       "      <td>9.78E+12</td>\n",
       "      <td>2017-05-07</td>\n",
       "      <td>by Anthony Doerr</td>\n",
       "      <td>ALL THE LIGHT WE CANNOT SEE</td>\n",
       "      <td>81</td>\n",
       "      <td>2017</td>\n",
       "      <td>5</td>\n",
       "    </tr>\n",
       "    <tr>\n",
       "      <th>2</th>\n",
       "      <td>Vintage</td>\n",
       "      <td>E L James</td>\n",
       "      <td>525431888</td>\n",
       "      <td>9.78E+12</td>\n",
       "      <td>2017-03-05</td>\n",
       "      <td>by E. L. James</td>\n",
       "      <td>FIFTY SHADES DARKER</td>\n",
       "      <td>66</td>\n",
       "      <td>2017</td>\n",
       "      <td>3</td>\n",
       "    </tr>\n",
       "    <tr>\n",
       "      <th>3</th>\n",
       "      <td>St. Martin's</td>\n",
       "      <td>Kristin Hannah</td>\n",
       "      <td>1466850604</td>\n",
       "      <td>9.78E+12</td>\n",
       "      <td>2017-10-29</td>\n",
       "      <td>by Kristin Hannah</td>\n",
       "      <td>THE NIGHTINGALE</td>\n",
       "      <td>63</td>\n",
       "      <td>2017</td>\n",
       "      <td>10</td>\n",
       "    </tr>\n",
       "    <tr>\n",
       "      <th>4</th>\n",
       "      <td>Penguin Group</td>\n",
       "      <td>Kathryn Stockett</td>\n",
       "      <td>1440697663</td>\n",
       "      <td>9.78E+12</td>\n",
       "      <td>2012-04-08</td>\n",
       "      <td>by Kathryn Stockett</td>\n",
       "      <td>THE HELP</td>\n",
       "      <td>58</td>\n",
       "      <td>2012</td>\n",
       "      <td>4</td>\n",
       "    </tr>\n",
       "  </tbody>\n",
       "</table>\n",
       "</div>"
      ],
      "text/plain": [
       "       publisher            author primary_isbn10 primary_isbn13       date  \\\n",
       "0      Riverhead     Paula Hawkins     1594634025       9.78E+12 2017-02-19   \n",
       "1       Scribner     Anthony Doerr     1501173219       9.78E+12 2017-05-07   \n",
       "2        Vintage         E L James      525431888       9.78E+12 2017-03-05   \n",
       "3   St. Martin's    Kristin Hannah     1466850604       9.78E+12 2017-10-29   \n",
       "4  Penguin Group  Kathryn Stockett     1440697663       9.78E+12 2012-04-08   \n",
       "\n",
       "           contributor                        title  weeks_on_list  year  \\\n",
       "0     by Paula Hawkins        THE GIRL ON THE TRAIN            102  2017   \n",
       "1     by Anthony Doerr  ALL THE LIGHT WE CANNOT SEE             81  2017   \n",
       "2       by E. L. James          FIFTY SHADES DARKER             66  2017   \n",
       "3    by Kristin Hannah              THE NIGHTINGALE             63  2017   \n",
       "4  by Kathryn Stockett                     THE HELP             58  2012   \n",
       "\n",
       "   month  \n",
       "0      2  \n",
       "1      5  \n",
       "2      3  \n",
       "3     10  \n",
       "4      4  "
      ]
     },
     "execution_count": 4,
     "metadata": {},
     "output_type": "execute_result"
    }
   ],
   "source": [
    "#NYbestlist is the NY times best seller list\n",
    "#weeks_on_list is the number of weeks a book was on the best seller list\n",
    "\n",
    "NYbestlist_df = pd.read_csv(\"Resources/books_uniq_weeks.csv\",encoding = 'unicode_escape')\n",
    "NYbestlist_df['date'] = pd.to_datetime(NYbestlist_df['date'])\n",
    "NYbestlist_df['year'] = NYbestlist_df['date'].dt.year\n",
    "NYbestlist_df['month'] = NYbestlist_df['date'].dt.month\n",
    "\n",
    "NYbestlist_df.head()\n"
   ]
  },
  {
   "cell_type": "code",
   "execution_count": 5,
   "metadata": {},
   "outputs": [
    {
     "data": {
      "image/png": "[encoded data removed]",
      "text/plain": [
       "<Figure size 432x288 with 1 Axes>"
      ]
     },
     "metadata": {},
     "output_type": "display_data"
    }
   ],
   "source": [
    "nybest_weeks_permonth = NYbestlist_df.groupby(\"month\")[\"weeks_on_list\"].sum()\n",
    "month = [1, 2, 3, 4, 5, 6, 7, 8, 9, 10, 11, 12]\n",
    "plt.bar(month,nybest_weeks_permonth, alpha=0.75, align=\"center\")\n",
    "plt.title(\"Month Vs Number of Weeks on Best Seller List\")\n",
    "plt.xlabel(\"Month\")\n",
    "plt.ylabel(\"Number of Weeks on Best Seller List\")\n",
    "plt.savefig(\"Weeks_on_list.png\")\n",
    "plt.show()"
   ]
  },
  {
   "cell_type": "code",
   "execution_count": 10,
   "metadata": {},
   "outputs": [
    {
     "data": {
      "image/png": "[encoded data removed]",
      "text/plain": [
       "<Figure size 432x288 with 1 Axes>"
      ]
     },
     "metadata": {},
     "output_type": "display_data"
    }
   ],
   "source": [
    "releasedf = NYbestlist_df.groupby(\"month\")[\"month\"].count()\n",
    "plt.bar(month,releasedf, alpha=0.75, align=\"center\")\n",
    "plt.title(\"Number of Best-Sellers Published by Month\")\n",
    "plt.xlabel(\"Month\")\n",
    "plt.ylabel(\"Number of Best-Sellers Published\")\n",
    "plt.savefig(\"graphs/NYBooks_published.png\")\n",
    "plt.show()"
   ]
  },
  {
   "cell_type": "code",
   "execution_count": 6,
   "metadata": {},
   "outputs": [
    {
     "data": {
      "text/plain": [
       "Putnam                     128\n",
       "Penguin Group              111\n",
       "Berkley                     89\n",
       "Simon & Schuster            78\n",
       "Little, Brown               77\n",
       "Grand Central               72\n",
       "St. Martin's                69\n",
       "Harlequin                   57\n",
       "Ballantine                  52\n",
       "Random House Publishing     49\n",
       "Name: publisher, dtype: int64"
      ]
     },
     "execution_count": 6,
     "metadata": {},
     "output_type": "execute_result"
    }
   ],
   "source": [
    "book_count = NYbestlist_df[\"publisher\"].value_counts()\n",
    "\n",
    "top10publishers = book_count[0:10]\n",
    "\n",
    "top10publishers\n",
    "\n"
   ]
  },
  {
   "cell_type": "code",
   "execution_count": 7,
   "metadata": {},
   "outputs": [
    {
     "data": {
      "text/plain": [
       "Danielle Steel      32\n",
       "Susan Mallery       30\n",
       "Christine Feehan    28\n",
       "Stuart Woods        27\n",
       "Debbie Macomber     26\n",
       "Nora Roberts        25\n",
       "Ron Carr            23\n",
       "Maya Banks          22\n",
       "David Baldacci      20\n",
       "Marie Force         20\n",
       "Name: author, dtype: int64"
      ]
     },
     "execution_count": 7,
     "metadata": {},
     "output_type": "execute_result"
    }
   ],
   "source": [
    "author_count = NYbestlist_df[\"author\"].value_counts()\n",
    "\n",
    "top10authors = author_count[0:10]\n",
    "\n",
    "top10authors\n"
   ]
  },
  {
   "cell_type": "code",
   "execution_count": 7,
   "metadata": {},
   "outputs": [
    {
     "data": {
      "text/plain": [
       "Text(0,0.5,'Number of publishers')"
      ]
     },
     "execution_count": 7,
     "metadata": {},
     "output_type": "execute_result"
    },
    {
     "data": {
      "image/png": "[encoded data removed]",
      "text/plain": [
       "<Figure size 432x288 with 1 Axes>"
      ]
     },
     "metadata": {},
     "output_type": "display_data"
    }
   ],
   "source": [
    "publisher_permonth = NYbestlist_df.groupby(\"month\")[\"publisher\"].count()\n",
    "\n",
    "plt.bar(month,publisher_permonth, alpha=0.75, align=\"center\")\n",
    "plt.title(\"Month Vs Number of Publishers\")\n",
    "plt.xlabel(\"Month\")\n",
    "plt.ylabel(\"Number of publishers\")\n",
    "\n"
   ]
  },
  {
   "cell_type": "code",
   "execution_count": null,
   "metadata": {},
   "outputs": [],
   "source": []
  }
 ],
 "metadata": {
  "kernelspec": {
   "display_name": "Conda [PythonData]",
   "language": "python",
   "name": "pythondata"
  },
  "language_info": {
   "codemirror_mode": {
    "name": "ipython",
    "version": 3
   },
   "file_extension": ".py",
   "mimetype": "text/x-python",
   "name": "python",
   "nbconvert_exporter": "python",
   "pygments_lexer": "ipython3",
   "version": "3.6.5"
  }
 },
 "nbformat": 4,
 "nbformat_minor": 2
}
